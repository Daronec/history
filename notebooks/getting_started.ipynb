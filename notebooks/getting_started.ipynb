{
  "cells": [
    {
      "cell_type": "markdown",
      "metadata": {},
      "source": [
        "# 🏛️ ИИ для изучения истории\n",
        "\n",
        "Добро пожаловать в проект по изучению истории с помощью искусственного интеллекта!\n",
        "\n",
        "Этот notebook поможет вам:\n",
        "- Понять основы работы с ИИ моделями\n",
        "- Обучить модель на исторических данных\n",
        "- Генерировать тексты на исторические темы\n",
        "- Анализировать исторические документы\n"
      ]
    },
    {
      "cell_type": "code",
      "execution_count": null,
      "metadata": {},
      "outputs": [],
      "source": [
        "# Импортируем необходимые библиотеки\n",
        "import sys\n",
        "import os\n",
        "import json\n",
        "import pandas as pd\n",
        "import numpy as np\n",
        "import matplotlib.pyplot as plt\n",
        "import seaborn as sns\n",
        "from pathlib import Path\n",
        "\n",
        "# Добавляем путь к нашим модулям\n",
        "sys.path.append('../src')\n",
        "\n",
        "# Импортируем нашу модель\n",
        "from models.history_ai import HistoryAIModel\n",
        "\n",
        "# Настройка для отображения графиков\n",
        "plt.style.use('seaborn-v0_8')\n",
        "sns.set_palette(\"husl\")\n",
        "\n",
        "print(\"✅ Все библиотеки успешно импортированы!\")\n"
      ]
    }
  ],
  "metadata": {
    "language_info": {
      "name": "python"
    }
  },
  "nbformat": 4,
  "nbformat_minor": 2
}
